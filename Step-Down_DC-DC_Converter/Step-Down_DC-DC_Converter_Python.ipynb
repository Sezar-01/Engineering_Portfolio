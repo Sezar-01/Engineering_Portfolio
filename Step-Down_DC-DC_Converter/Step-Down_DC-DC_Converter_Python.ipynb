{
 "cells": [
  {
   "cell_type": "code",
   "execution_count": 2,
   "metadata": {},
   "outputs": [],
   "source": [
    "import matplotlib.pyplot as plt\n",
    "import numpy as np\n",
    "import sympy as sp"
   ]
  },
  {
   "cell_type": "markdown",
   "metadata": {},
   "source": [
    "VOUT WIHTOUT PARASITIC CAPACITANCES"
   ]
  },
  {
   "cell_type": "code",
   "execution_count": 3,
   "metadata": {},
   "outputs": [],
   "source": [
    "# Define symbols\n",
    "V1, V2, Vo1_2, Vo = sp.symbols(\"V1 V2 Vo1_2 Vo\")\n",
    "T, Ro, Cf, Co, Fclk = sp.symbols(\"T Ro Cf Co Fclk\")\n",
    "\n",
    "# Define the two equations for vo1 and vo2\n",
    "eq1 = (((V1-Vo)*Cf)+(Vo*Co))\n",
    "eq2 = (((-V2+Vo1_2)*Cf)+(Co*Vo1_2)+((T*Vo)/(2*Ro)))\n",
    "\n",
    "eq3 = (((V2-Vo1_2)*Cf)+(Co*Vo1_2))\n",
    "eq4 = (((Vo-V1)*Cf)+(Co*Vo)+((Vo1_2*T)/(2*Ro)))\n",
    "\n",
    "# Set vo1 = vo2\n",
    "combined_equation1 = sp.Eq(eq1, eq2)\n",
    "combined_equation2 = sp.Eq(eq3, eq4)\n",
    "\n",
    "# Solve for Vo \n",
    "solution_q1 = sp.solve(combined_equation1, Vo1_2)\n",
    "solution_q2 = sp.solve(combined_equation2, Vo1_2)"
   ]
  },
  {
   "cell_type": "code",
   "execution_count": 4,
   "metadata": {},
   "outputs": [
    {
     "data": {
      "text/latex": [
       "$\\displaystyle \\frac{Cf Ro V_{1} + Cf Ro V_{2} - Cf Ro Vo + Co Ro Vo - \\frac{T Vo}{2}}{Ro \\left(Cf + Co\\right)}$"
      ],
      "text/plain": [
       "(Cf*Ro*V1 + Cf*Ro*V2 - Cf*Ro*Vo + Co*Ro*Vo - T*Vo/2)/(Ro*(Cf + Co))"
      ]
     },
     "execution_count": 4,
     "metadata": {},
     "output_type": "execute_result"
    }
   ],
   "source": [
    "solution_q1[0]"
   ]
  },
  {
   "cell_type": "code",
   "execution_count": 5,
   "metadata": {},
   "outputs": [
    {
     "data": {
      "text/latex": [
       "$\\displaystyle \\frac{2 Ro \\left(Cf V_{1} + Cf V_{2} - Cf Vo - Co Vo\\right)}{2 Cf Ro - 2 Co Ro + T}$"
      ],
      "text/plain": [
       "2*Ro*(Cf*V1 + Cf*V2 - Cf*Vo - Co*Vo)/(2*Cf*Ro - 2*Co*Ro + T)"
      ]
     },
     "execution_count": 5,
     "metadata": {},
     "output_type": "execute_result"
    }
   ],
   "source": [
    "solution_q2[0]"
   ]
  },
  {
   "cell_type": "code",
   "execution_count": 6,
   "metadata": {},
   "outputs": [
    {
     "data": {
      "text/latex": [
       "$\\displaystyle \\frac{2 Cf Ro \\left(V_{1} + V_{2}\\right)}{4 Cf Ro + T}$"
      ],
      "text/plain": [
       "2*Cf*Ro*(V1 + V2)/(4*Cf*Ro + T)"
      ]
     },
     "execution_count": 6,
     "metadata": {},
     "output_type": "execute_result"
    }
   ],
   "source": [
    "# Define symbols\n",
    "V1, V2, Vo, VDD = sp.symbols(\"V1 V2 Vo VDD\")\n",
    "Fclk, Ro, Cf, Co, Cp1, Cp2 = sp.symbols(\"Fclk Ro Cf Co Cp1 Cp2\")\n",
    "\n",
    "# Define the two equations for vo1 and vo2\n",
    "vo1 = (Cf*Ro*V1 + Cf*Ro*V2 - Cf*Ro*Vo + Co*Ro*Vo - T*Vo/2)/(Ro*(Cf + Co))\n",
    "vo2 = 2*Ro*(Cf*V1 + Cf*V2 - Cf*Vo - Co*Vo)/(2*Cf*Ro - 2*Co*Ro + T)\n",
    "\n",
    "# Set vo1 = vo2\n",
    "combined_equation = sp.Eq(vo1, vo2)\n",
    "\n",
    "# Solve for Vo \n",
    "solution_Vo = sp.solve(combined_equation, Vo)\n",
    "\n",
    "solution_Vo[0]"
   ]
  },
  {
   "cell_type": "markdown",
   "metadata": {},
   "source": [
    "EFFICIENCY"
   ]
  },
  {
   "cell_type": "code",
   "execution_count": 7,
   "metadata": {},
   "outputs": [
    {
     "data": {
      "text/latex": [
       "$\\displaystyle \\frac{Vo \\left(2 V_{1} + 2 V_{2} - 4 Vo\\right)}{\\left(V_{1} - V_{2}\\right) \\left(V_{1} + V_{2}\\right)}$"
      ],
      "text/plain": [
       "Vo*(2*V1 + 2*V2 - 4*Vo)/((V1 - V2)*(V1 + V2))"
      ]
     },
     "execution_count": 7,
     "metadata": {},
     "output_type": "execute_result"
    }
   ],
   "source": [
    "Ii = ((V1-Vo)-(V2-Vo))*Fclk*Cf\n",
    "Io = (((V1-Vo)-(Vo-V2))+((V2-Vo)-(Vo-V1)))*Fclk*Cf\n",
    "\n",
    "Eff = (Vo*Io)/((V1+V2)*Ii)\n",
    "\n",
    "Eff"
   ]
  },
  {
   "cell_type": "markdown",
   "metadata": {},
   "source": [
    "VOUT AND EFFICIENCY WITH PARASITIC CAPACITANCES"
   ]
  },
  {
   "cell_type": "code",
   "execution_count": 8,
   "metadata": {},
   "outputs": [],
   "source": [
    "# Define the two equations for vo1 and vo2\n",
    "eq1CP = (((V1-Vo)*Cf)+(Vo*Co)+(V1*Cp1))\n",
    "eq2CP = (((-V2+Vo1_2)*Cf)+(Co*Vo1_2)+((T*Vo)/(2*Ro))+(Vo*Cp2))\n",
    "\n",
    "eq3CP = (((V2-Vo1_2)*Cf)+(Co*Vo1_2)+(Vo*Cp2))\n",
    "eq4CP = (((Vo-V1)*Cf)+(Co*Vo)+((Vo1_2*T)/(2*Ro))+(V1*Cp1))\n",
    "\n",
    "# Set vo1 = vo2\n",
    "combined_equation1CP = sp.Eq(eq1CP, eq2CP)\n",
    "combined_equation2CP = sp.Eq(eq3CP, eq4CP)\n",
    "\n",
    "# Solve for Vo \n",
    "solution_q1CP = sp.solve(combined_equation1CP, Vo1_2)\n",
    "solution_q2CP = sp.solve(combined_equation2CP, Vo1_2)"
   ]
  },
  {
   "cell_type": "code",
   "execution_count": 9,
   "metadata": {},
   "outputs": [
    {
     "data": {
      "text/latex": [
       "$\\displaystyle Cf \\left(V_{1} - Vo\\right) + Co Vo + Cp_{1} V_{1} = Cf \\left(- V_{2} + Vo_{1 2}\\right) + Co Vo_{1 2} + Cp_{2} Vo + \\frac{T Vo}{2 Ro}$"
      ],
      "text/plain": [
       "Eq(Cf*(V1 - Vo) + Co*Vo + Cp1*V1, Cf*(-V2 + Vo1_2) + Co*Vo1_2 + Cp2*Vo + T*Vo/(2*Ro))"
      ]
     },
     "execution_count": 9,
     "metadata": {},
     "output_type": "execute_result"
    }
   ],
   "source": [
    "combined_equation1CP"
   ]
  },
  {
   "cell_type": "code",
   "execution_count": 10,
   "metadata": {},
   "outputs": [
    {
     "data": {
      "text/latex": [
       "$\\displaystyle Cf \\left(V_{2} - Vo_{1 2}\\right) + Co Vo_{1 2} + Cp_{2} Vo = Cf \\left(- V_{1} + Vo\\right) + Co Vo + Cp_{1} V_{1} + \\frac{T Vo_{1 2}}{2 Ro}$"
      ],
      "text/plain": [
       "Eq(Cf*(V2 - Vo1_2) + Co*Vo1_2 + Cp2*Vo, Cf*(-V1 + Vo) + Co*Vo + Cp1*V1 + T*Vo1_2/(2*Ro))"
      ]
     },
     "execution_count": 10,
     "metadata": {},
     "output_type": "execute_result"
    }
   ],
   "source": [
    "combined_equation2CP"
   ]
  },
  {
   "cell_type": "code",
   "execution_count": 11,
   "metadata": {},
   "outputs": [
    {
     "data": {
      "text/latex": [
       "$\\displaystyle \\frac{Cf Ro V_{1} + Cf Ro V_{2} - Cf Ro Vo + Co Ro Vo + Cp_{1} Ro V_{1} - Cp_{2} Ro Vo - \\frac{T Vo}{2}}{Ro \\left(Cf + Co\\right)}$"
      ],
      "text/plain": [
       "(Cf*Ro*V1 + Cf*Ro*V2 - Cf*Ro*Vo + Co*Ro*Vo + Cp1*Ro*V1 - Cp2*Ro*Vo - T*Vo/2)/(Ro*(Cf + Co))"
      ]
     },
     "execution_count": 11,
     "metadata": {},
     "output_type": "execute_result"
    }
   ],
   "source": [
    "solution_q1CP[0]"
   ]
  },
  {
   "cell_type": "code",
   "execution_count": 12,
   "metadata": {},
   "outputs": [
    {
     "data": {
      "text/latex": [
       "$\\displaystyle \\frac{2 Ro \\left(Cf V_{1} + Cf V_{2} - Cf Vo - Co Vo - Cp_{1} V_{1} + Cp_{2} Vo\\right)}{2 Cf Ro - 2 Co Ro + T}$"
      ],
      "text/plain": [
       "2*Ro*(Cf*V1 + Cf*V2 - Cf*Vo - Co*Vo - Cp1*V1 + Cp2*Vo)/(2*Cf*Ro - 2*Co*Ro + T)"
      ]
     },
     "execution_count": 12,
     "metadata": {},
     "output_type": "execute_result"
    }
   ],
   "source": [
    "solution_q2CP[0]"
   ]
  },
  {
   "cell_type": "code",
   "execution_count": 13,
   "metadata": {},
   "outputs": [
    {
     "data": {
      "text/latex": [
       "$\\displaystyle \\frac{2 Ro \\left(- 4 Cf Co Ro V_{1} - 4 Cf Co Ro V_{2} + 4 Cf Cp_{1} Ro V_{1} + Cf T V_{1} + Cf T V_{2} + Cp_{1} T V_{1}\\right)}{- 16 Cf Co Ro^{2} + 8 Cf Cp_{2} Ro^{2} + 4 Cf Ro T - 4 Co Ro T + 2 Cp_{2} Ro T + T^{2}}$"
      ],
      "text/plain": [
       "2*Ro*(-4*Cf*Co*Ro*V1 - 4*Cf*Co*Ro*V2 + 4*Cf*Cp1*Ro*V1 + Cf*T*V1 + Cf*T*V2 + Cp1*T*V1)/(-16*Cf*Co*Ro**2 + 8*Cf*Cp2*Ro**2 + 4*Cf*Ro*T - 4*Co*Ro*T + 2*Cp2*Ro*T + T**2)"
      ]
     },
     "execution_count": 13,
     "metadata": {},
     "output_type": "execute_result"
    }
   ],
   "source": [
    "# Define the two equations for vo1 and vo2\n",
    "vo1CP = (Cf*Ro*V1 + Cf*Ro*V2 - Cf*Ro*Vo + Co*Ro*Vo + Cp1*Ro*V1 - Cp2*Ro*Vo - T*Vo/2)/(Ro*(Cf + Co))\n",
    "vo2CP = 2*Ro*(Cf*V1 + Cf*V2 - Cf*Vo - Co*Vo - Cp1*V1 + Cp2*Vo)/(2*Cf*Ro - 2*Co*Ro + T)\n",
    "\n",
    "# Set vo1 = vo2\n",
    "combined_equationCP = sp.Eq(vo1CP, vo2CP)\n",
    "\n",
    "# Solve for Vo \n",
    "solution_VoCP = sp.solve(combined_equationCP, Vo)\n",
    "\n",
    "solution_VoCP[0]"
   ]
  },
  {
   "cell_type": "code",
   "execution_count": 14,
   "metadata": {},
   "outputs": [
    {
     "data": {
      "text/latex": [
       "$\\displaystyle \\frac{2 Fclk Ro VDD \\left(4 Cf Fclk Ro \\left(- Co + Cp_{1}\\right) + Cf + Cp_{1}\\right)}{8 Cf Fclk^{2} Ro^{2} \\left(- 2 Co + Cp_{2}\\right) + 2 Fclk Ro \\left(2 Cf - 2 Co + Cp_{2}\\right) + 1}$"
      ],
      "text/plain": [
       "2*Fclk*Ro*VDD*(4*Cf*Fclk*Ro*(-Co + Cp1) + Cf + Cp1)/(8*Cf*Fclk**2*Ro**2*(-2*Co + Cp2) + 2*Fclk*Ro*(2*Cf - 2*Co + Cp2) + 1)"
      ]
     },
     "execution_count": 14,
     "metadata": {},
     "output_type": "execute_result"
    }
   ],
   "source": [
    "equation = 2*Ro*(-4*Cf*Co*Ro*V1 - 4*Cf*Co*Ro*V2 + 4*Cf*Cp1*Ro*V1 + Cf*T*V1 + Cf*T*V2 + Cp1*T*V1)/(-16*Cf*Co*Ro**2 + 8*Cf*Cp2*Ro**2 + 4*Cf*Ro*T - 4*Co*Ro*T + 2*Cp2*Ro*T + T**2)\n",
    "\n",
    "equation = equation.subs(T, 1/Fclk)\n",
    "\n",
    "equation = equation.subs(V1, VDD)\n",
    "\n",
    "equation = equation.subs(V2, 0)\n",
    "\n",
    "vo = sp.simplify(equation)\n",
    "\n",
    "vo"
   ]
  },
  {
   "cell_type": "code",
   "execution_count": 15,
   "metadata": {},
   "outputs": [
    {
     "data": {
      "text/latex": [
       "$\\displaystyle \\frac{Vo \\left(V_{1} + V_{2} - 2 Vo + \\left(Cf + Cp_{1}\\right) \\left(V_{1} - Vo\\right) + \\left(Cf + Cp_{2}\\right) \\left(V_{2} - Vo\\right)\\right)}{\\left(V_{1} + V_{2}\\right) \\left(\\left(Cf + Cp_{1}\\right) \\left(V_{1} - Vo\\right) - \\left(Cf + Cp_{2}\\right) \\left(V_{2} - Vo\\right)\\right)}$"
      ],
      "text/plain": [
       "Vo*(V1 + V2 - 2*Vo + (Cf + Cp1)*(V1 - Vo) + (Cf + Cp2)*(V2 - Vo))/((V1 + V2)*((Cf + Cp1)*(V1 - Vo) - (Cf + Cp2)*(V2 - Vo)))"
      ]
     },
     "execution_count": 15,
     "metadata": {},
     "output_type": "execute_result"
    }
   ],
   "source": [
    "Ii = ((Cf + Cp1) * (V1 - Vo) - (Cf + Cp2) * (V2 - Vo)) * Fclk\n",
    "Io = (((Cf + Cp1) * (V1 - Vo) - (Vo - V2)) + ((Cf + Cp2) * (V2 - Vo) - (Vo - V1))) * Fclk\n",
    "\n",
    "Eff = (Vo*Io)/((V1+V2)*Ii)\n",
    "\n",
    "Eff"
   ]
  },
  {
   "cell_type": "markdown",
   "metadata": {},
   "source": [
    "CLOCK FREQUENCY"
   ]
  },
  {
   "cell_type": "code",
   "execution_count": 16,
   "metadata": {},
   "outputs": [
    {
     "data": {
      "text/latex": [
       "$\\displaystyle \\frac{Vo}{2 Cf Ro \\left(V_{1} + V_{2} - 2 Vo\\right)}$"
      ],
      "text/plain": [
       "Vo/(2*Cf*Ro*(V1 + V2 - 2*Vo))"
      ]
     },
     "execution_count": 16,
     "metadata": {},
     "output_type": "execute_result"
    }
   ],
   "source": [
    "equation = 2*Cf*Ro*(V1 + V2)/(4*Cf*Ro + T)\n",
    "\n",
    "equation = equation.subs(T, 1/Fclk)\n",
    "\n",
    "# Equation for Vo\n",
    "vo_equation = sp.Eq(Vo, equation)\n",
    "\n",
    "# Solve for Fclk\n",
    "fclk_solution = sp.solve(vo_equation, Fclk)\n",
    "\n",
    "# Simplify the result\n",
    "fclk_simplified = sp.simplify(fclk_solution[0])\n",
    "\n",
    "# Display the simplified equation for Fclk\n",
    "fclk_simplified\n",
    "\n"
   ]
  },
  {
   "cell_type": "code",
   "execution_count": 17,
   "metadata": {},
   "outputs": [
    {
     "name": "stderr",
     "output_type": "stream",
     "text": [
      "C:\\Users\\crodr\\AppData\\Local\\Temp\\ipykernel_33220\\253387971.py:10: RuntimeWarning: divide by zero encountered in divide\n",
      "  return numerator / denominator\n"
     ]
    },
    {
     "data": {
      "image/png": "[encoded data removed]",
      "text/plain": [
       "<Figure size 800x600 with 1 Axes>"
      ]
     },
     "metadata": {},
     "output_type": "display_data"
    }
   ],
   "source": [
    "Cf = 10E-9 # Capacitance in Farads (e.g., 1 pF)\n",
    "Ro = 16    # Resistance in Ohms (e.g., 1 kOhm)\n",
    "V1 = 1.2    # Voltage in Volts\n",
    "V2 = 0    # Voltage in Volts\n",
    "\n",
    "# Equation: F_clk as a function of Vo\n",
    "def Fclk(Vo, Cf, Ro, V1, V2):\n",
    "    numerator = Vo\n",
    "    denominator = 2*Cf*Ro*(V1+V2-2*Vo)\n",
    "    return numerator / denominator\n",
    "\n",
    "# Generate Vo values (x-axis)\n",
    "Vo_values = np.linspace(0.01, 0.6, 500)  # Avoid Vo=0 to prevent division by zero\n",
    "\n",
    "# Calculate Fclk values (y-axis)\n",
    "Fclk_values = Fclk(Vo_values, Cf, Ro, V1, V2)\n",
    "\n",
    "# Plot\n",
    "plt.figure(figsize=(8, 6))\n",
    "plt.plot(Vo_values, Fclk_values, label=r\"$F_{clk}$ vs $V_o$\", color='blue')\n",
    "plt.xlabel(r\"$V_o$ (Volts)\", fontsize=12)\n",
    "plt.ylabel(r\"$F_{clk}$ (Hz)\", fontsize=12)\n",
    "plt.title(r\"$F_{clk}$ vs $V_o$\", fontsize=14)\n",
    "plt.grid(True)\n",
    "plt.legend()\n",
    "plt.show()"
   ]
  },
  {
   "cell_type": "code",
   "execution_count": null,
   "metadata": {},
   "outputs": [],
   "source": []
  }
 ],
 "metadata": {
  "kernelspec": {
   "display_name": "Python 3",
   "language": "python",
   "name": "python3"
  },
  "language_info": {
   "codemirror_mode": {
    "name": "ipython",
    "version": 3
   },
   "file_extension": ".py",
   "mimetype": "text/x-python",
   "name": "python",
   "nbconvert_exporter": "python",
   "pygments_lexer": "ipython3",
   "version": "3.11.9"
  }
 },
 "nbformat": 4,
 "nbformat_minor": 2
}
